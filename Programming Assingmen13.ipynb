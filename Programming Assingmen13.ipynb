{
 "cells": [
  {
   "cell_type": "code",
   "execution_count": 11,
   "id": "a519ef71",
   "metadata": {},
   "outputs": [
    {
     "name": "stdout",
     "output_type": "stream",
     "text": [
      "Enter 3 numbers seperated by comma: 100,150,180\n",
      "[18, 22, 24]\n"
     ]
    }
   ],
   "source": [
    "'''\n",
    "Question 1:\n",
    "\n",
    "Write a program that calculates and prints the value according to the given formula:\n",
    "\n",
    "Q = Square root of [(2 * C * D)/H]\n",
    "\n",
    "Following are the fixed values of C and H:\n",
    "\n",
    "C is 50. H is 30.\n",
    "\n",
    "D is the variable whose values should be input to your program in a comma-separated sequence.\n",
    "\n",
    "Example\n",
    "\n",
    "Let us assume the following comma separated input sequence is given to the program:\n",
    "\n",
    "100,150,180\n",
    "\n",
    "The output of the program should be:\n",
    "\n",
    "18,22,24\n",
    "'''\n",
    "\n",
    "from math import sqrt\n",
    "C = 50\n",
    "H = 30\n",
    "\n",
    "ip = [int(i) for i in input('Enter 3 numbers seperated by comma: ').split(',')]\n",
    "lst = []\n",
    "for D in ip:\n",
    "    Q = round(sqrt(2*C*D/H))\n",
    "    lst.append(Q)\n",
    "print(lst)"
   ]
  },
  {
   "cell_type": "code",
   "execution_count": 13,
   "id": "611bcfdb",
   "metadata": {},
   "outputs": [
    {
     "name": "stdout",
     "output_type": "stream",
     "text": [
      "Enter 2 numbers separated by a space character: 3 5\n",
      "[[0, 0, 0, 0, 0], [0, 1, 2, 3, 4], [0, 2, 4, 6, 8]]\n"
     ]
    }
   ],
   "source": [
    "'''\n",
    "Question 2:\n",
    "Write a program which takes 2 digits, X,Y as input and generates a 2-dimensional array. \n",
    "The element value in the i-th row and j-th column of the array should be i*j.\n",
    "\n",
    "Note: i=0,1.., X-1; j=0,1,¡¬Y-1.\n",
    "\n",
    "Example\n",
    "\n",
    "Suppose the following inputs are given to the program:\n",
    "\n",
    "3,5\n",
    "\n",
    "Then, the output of the program should be:\n",
    "\n",
    "[[0, 0, 0, 0, 0], [0, 1, 2, 3, 4], [0, 2, 4, 6, 8]] \n",
    "'''\n",
    "\n",
    "ip = [int(i) for i in input('Enter 2 numbers separated by a space character: ').split()]\n",
    "lst = []\n",
    "for i in range(ip[0]):\n",
    "    lst_row = []\n",
    "    for j in range(ip[1]):\n",
    "        lst_row.append(i*j)\n",
    "    lst.append(lst_row)\n",
    "print(lst)"
   ]
  },
  {
   "cell_type": "code",
   "execution_count": 17,
   "id": "3c4deded",
   "metadata": {},
   "outputs": [
    {
     "name": "stdout",
     "output_type": "stream",
     "text": [
      "Enter some words separated by comma: without,hello,bag,world\n",
      "bag,hello,without,world\n"
     ]
    }
   ],
   "source": [
    "'''\n",
    "Question 3:\n",
    "Write a program that accepts a comma separated sequence of words as input and prints the words \n",
    "in a comma-separated sequence after sorting them alphabetically.\n",
    "\n",
    "Suppose the following input is supplied to the program:\n",
    "\n",
    "without,hello,bag,world\n",
    "\n",
    "Then, the output should be:\n",
    "\n",
    "bag,hello,without,world\n",
    "'''\n",
    "\n",
    "ip = input('Enter some words separated by comma: ').split(',')\n",
    "ip.sort()\n",
    "print(','.join(ip))"
   ]
  },
  {
   "cell_type": "code",
   "execution_count": 19,
   "id": "6d84a461",
   "metadata": {},
   "outputs": [
    {
     "name": "stdout",
     "output_type": "stream",
     "text": [
      "Enter some words separated by space charactershello world and practice makes perfect and hello world again\n",
      "again and hello makes perfect practice world\n"
     ]
    }
   ],
   "source": [
    "'''\n",
    "Question 4:\n",
    "Write a program that accepts a sequence of whitespace separated words as input and prints the words \n",
    "after removing all duplicate words and sorting them alphanumerically.\n",
    "\n",
    "Suppose the following input is supplied to the program:\n",
    "\n",
    "hello world and practice makes perfect and hello world again\n",
    "\n",
    "Then, the output should be:\n",
    "\n",
    "again and hello makes perfect practice world\n",
    "'''\n",
    "\n",
    "ip = input('Enter some words separated by space characters').split()\n",
    "st = set(ip)\n",
    "lst = list(st)\n",
    "lst.sort()\n",
    "print(' '.join(lst))"
   ]
  },
  {
   "cell_type": "code",
   "execution_count": 25,
   "id": "c148ec00",
   "metadata": {},
   "outputs": [
    {
     "name": "stdout",
     "output_type": "stream",
     "text": [
      "Enter a sentence: hello world! 123\n",
      "LETTERS 10\n",
      "DIGITS 3\n"
     ]
    }
   ],
   "source": [
    "'''\n",
    "Question 5:\n",
    "Write a program that accepts a sentence and calculate the number of letters and digits.\n",
    "\n",
    "Suppose the following input is supplied to the program:\n",
    "\n",
    "hello world! 123\n",
    "\n",
    "Then, the output should be:\n",
    "\n",
    "LETTERS 10\n",
    "\n",
    "DIGITS 3\n",
    "'''\n",
    "\n",
    "def count_letter_digit(txt):\n",
    "    all_letters = ['a','b','c','d','e','f','g','h','i','j','k','l','m',\n",
    "                   'n','o','p','q','r','s','t','u','v','w','x','y','z']\n",
    "    all_digits = ['0','1','2','3','4','5','6','7','8','9']\n",
    "    digit, letter = 0,0\n",
    "    for i in txt:\n",
    "        if i.lower() in all_digits:\n",
    "            digit+=1\n",
    "        if i.lower() in all_letters:\n",
    "            letter+=1\n",
    "    return letter,digit\n",
    "\n",
    "ip = input('Enter a sentence: ')\n",
    "l,d = count_letter_digit(ip)\n",
    "print('LETTERS',l)\n",
    "print('DIGITS',d)"
   ]
  },
  {
   "cell_type": "code",
   "execution_count": 34,
   "id": "56e54556",
   "metadata": {},
   "outputs": [
    {
     "data": {
      "text/plain": [
       "'ABd1234@1'"
      ]
     },
     "execution_count": 34,
     "metadata": {},
     "output_type": "execute_result"
    }
   ],
   "source": [
    "'''\n",
    "Question 6:\n",
    "A website requires the users to input username and password to register. \n",
    "Write a program to check the validity of password input by users.\n",
    "\n",
    "Following are the criteria for checking the password:\n",
    "\n",
    "1. At least 1 letter between [a-z]\n",
    "\n",
    "2. At least 1 number between [0-9]\n",
    "\n",
    "1. At least 1 letter between [A-Z]\n",
    "\n",
    "3. At least 1 character from [$#@]\n",
    "\n",
    "4. Minimum length of transaction password: 6\n",
    "\n",
    "5. Maximum length of transaction password: 12\n",
    "\n",
    "Your program should accept a sequence of comma separated passwords and will check them according to the \n",
    "above criteria. Passwords that match the criteria are to be printed, each separated by a comma.\n",
    "\n",
    "Example\n",
    "\n",
    "If the following passwords are given as input to the program:\n",
    "\n",
    "ABd1234@1,a F1#,2w3E*,2We3345\n",
    "\n",
    "Then, the output of the program should be:\n",
    "\n",
    "ABd1234@1\n",
    "'''\n",
    "def check_password(txt):\n",
    "    all_letters = ['a','b','c','d','e','f','g','h','i','j','k','l','m',\n",
    "                   'n','o','p','q','r','s','t','u','v','w','x','y','z']\n",
    "    all_digits = ['0','1','2','3','4','5','6','7','8','9']\n",
    "    all_upper = ['A','B','C','D','E','F','G','H','I','J','K','L','M',\n",
    "                  'N','O','P','Q','R','S','T','U','V','W','X','Y','Z']\n",
    "    all_char = ['$','#','@']\n",
    "    ret_txt = ''\n",
    "    lst = txt.split(',')\n",
    "    for i in lst:\n",
    "        if len(i) < 6:\n",
    "            continue\n",
    "        elif len(i) > 12:\n",
    "            continue\n",
    "        elif len([j for j in i if j in all_letters]) == 0:\n",
    "            continue\n",
    "        elif len([k for k in i if k in all_digits]) == 0:\n",
    "            continue\n",
    "        elif len([l for l in i if l in all_upper]) == 0:\n",
    "            continue\n",
    "        elif len([m for m in i if m in all_char]) == 0:\n",
    "            continue\n",
    "        else:\n",
    "            ret_txt = ret_txt + i\n",
    "    return ret_txt\n",
    "\n",
    "check_password('ABd1234@1,a F1#,2w3E*,2We3345')"
   ]
  }
 ],
 "metadata": {
  "kernelspec": {
   "display_name": "Python 3",
   "language": "python",
   "name": "python3"
  },
  "language_info": {
   "codemirror_mode": {
    "name": "ipython",
    "version": 3
   },
   "file_extension": ".py",
   "mimetype": "text/x-python",
   "name": "python",
   "nbconvert_exporter": "python",
   "pygments_lexer": "ipython3",
   "version": "3.8.8"
  }
 },
 "nbformat": 4,
 "nbformat_minor": 5
}
