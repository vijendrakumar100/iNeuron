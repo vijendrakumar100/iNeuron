{
 "cells": [
  {
   "cell_type": "code",
   "execution_count": 10,
   "metadata": {},
   "outputs": [
    {
     "name": "stdout",
     "output_type": "stream",
     "text": [
      "Enter the value of k: 4\n",
      "Enter a word: India\n",
      "India is longer than 4 characters.\n"
     ]
    }
   ],
   "source": [
    "#1.Write a Python program to find words which are greater than given length k?\n",
    "k = int(input('Enter the value of k: '))\n",
    "word = input('Enter a word: ')\n",
    "if len(word) > k:\n",
    "    print(word,'is longer than',k,'characters.')\n",
    "else:\n",
    "    print(word,'is not longer than',k,'characters.')"
   ]
  },
  {
   "cell_type": "code",
   "execution_count": 14,
   "metadata": {},
   "outputs": [
    {
     "name": "stdout",
     "output_type": "stream",
     "text": [
      "Enter a string: India is a great country.\n",
      "Enter the position from where you want to remove a character: 10\n",
      "Here is the modified string: India is agreat country.\n"
     ]
    }
   ],
   "source": [
    "#2.Write a Python program for removing i-th character from a string?\n",
    "string = input('Enter a string: ')\n",
    "position = int(input('Enter the position from where you want to remove a character: '))\n",
    "print('Here is the modified string:',string[:position]+string[position+1:])"
   ]
  },
  {
   "cell_type": "code",
   "execution_count": 15,
   "metadata": {},
   "outputs": [
    {
     "name": "stdout",
     "output_type": "stream",
     "text": [
      "Original string: India is a great country.\n",
      "After splitting: ['India', 'is', 'a', 'great', 'country.']\n",
      "String after joining: India-is-a-great-country.\n"
     ]
    }
   ],
   "source": [
    "#3.Write a Python program to split and join a string?\n",
    "string = 'India is a great country.'\n",
    "print('Original string:',string)\n",
    "split_string = string.split()\n",
    "print('After splitting:',split_string)\n",
    "joint_string = '-'.join(split_string)\n",
    "print('String after joining:',joint_string)"
   ]
  },
  {
   "cell_type": "code",
   "execution_count": 20,
   "metadata": {},
   "outputs": [
    {
     "name": "stdout",
     "output_type": "stream",
     "text": [
      "Enter a string: 1010101010\n",
      "1010101010 is a binary string.\n"
     ]
    }
   ],
   "source": [
    "#4.Write a Python to check if a given string is binary string or not?\n",
    "def check_binary(string):\n",
    "    check = '01'\n",
    "    count = 0\n",
    "    for i in string:\n",
    "        if i not in check:\n",
    "            count += 1\n",
    "    if count == 0:\n",
    "        print(string,'is a binary string.')\n",
    "    else:\n",
    "        print(string,'is not a binary string.')\n",
    "string = input('Enter a string: ')\n",
    "check_binary(string)"
   ]
  },
  {
   "cell_type": "code",
   "execution_count": 31,
   "metadata": {},
   "outputs": [
    {
     "name": "stdout",
     "output_type": "stream",
     "text": [
      "Uncommon words from the two strings are: {'India', 'Japan'}\n"
     ]
    }
   ],
   "source": [
    "#5.Write a Python program to find uncommon words from two Strings?\n",
    "string1 = 'India is a great country'\n",
    "string2 = 'Japan is a great country'\n",
    "print('Uncommon words from the two strings are:',set(string1.split()).symmetric_difference(set(string2.split())))"
   ]
  },
  {
   "cell_type": "code",
   "execution_count": 59,
   "metadata": {},
   "outputs": [
    {
     "name": "stdout",
     "output_type": "stream",
     "text": [
      "Enter a stringIndia is a great country\n",
      "Following are the duplicate characters in the string: ['n', 'i', 'a', ' ', 'r', 't']\n"
     ]
    }
   ],
   "source": [
    "#6.Write a Python to find all duplicate characters in string?\n",
    "from collections import Counter\n",
    "string1 = input('Enter a string')\n",
    "counts = Counter(string1)\n",
    "filtered = {key:value for key, value in counts.items() if value > 1}\n",
    "print('Following are the duplicate characters in the string:',list(filtered.keys()))"
   ]
  },
  {
   "cell_type": "code",
   "execution_count": 81,
   "metadata": {},
   "outputs": [
    {
     "name": "stdout",
     "output_type": "stream",
     "text": [
      "Enter a string: Hi! How are you?\n",
      "String contains special character\n"
     ]
    }
   ],
   "source": [
    "#7.Write a Python Program to check if a string contains any special character?\n",
    "import string\n",
    "sp_char = string.punctuation\n",
    "sent = input('Enter a string: ')\n",
    "bool = map(lambda a: a in sp_char,sent)\n",
    "print('String contains special character') if any(bool) else print('String does not contain special character')"
   ]
  }
 ],
 "metadata": {
  "kernelspec": {
   "display_name": "Python 3",
   "language": "python",
   "name": "python3"
  },
  "language_info": {
   "codemirror_mode": {
    "name": "ipython",
    "version": 3
   },
   "file_extension": ".py",
   "mimetype": "text/x-python",
   "name": "python",
   "nbconvert_exporter": "python",
   "pygments_lexer": "ipython3",
   "version": "3.8.5"
  }
 },
 "nbformat": 4,
 "nbformat_minor": 4
}
