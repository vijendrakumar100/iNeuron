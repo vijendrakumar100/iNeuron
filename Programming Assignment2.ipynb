{
 "cells": [
  {
   "cell_type": "code",
   "execution_count": 2,
   "metadata": {},
   "outputs": [
    {
     "name": "stdout",
     "output_type": "stream",
     "text": [
      "Enter the kilometer value you want ot convert to miles: 10\n",
      "10 kms = 6.21371 miles\n"
     ]
    }
   ],
   "source": [
    "#1.\tWrite a Python program to convert kilometers to miles?\n",
    "km = int(input('Enter the kilometer value you want to convert to miles: '))\n",
    "\n",
    "miles = km*0.621371\n",
    "\n",
    "print('{} kms = {} miles'.format(km, miles))"
   ]
  },
  {
   "cell_type": "code",
   "execution_count": 4,
   "metadata": {},
   "outputs": [
    {
     "name": "stdout",
     "output_type": "stream",
     "text": [
      "Enter the temperature in Celcius: 10\n",
      "10 celcius = 50.0 farenheit\n"
     ]
    }
   ],
   "source": [
    "#2.\tWrite a Python program to convert Celsius to Fahrenheit?\n",
    "celcius = int(input('Enter the temperature in Celcius: '))\n",
    "\n",
    "farenheit = celcius*9/5+32\n",
    "\n",
    "print('{} celcius = {} farenheit'.format(celcius, farenheit))"
   ]
  },
  {
   "cell_type": "code",
   "execution_count": 14,
   "metadata": {},
   "outputs": [
    {
     "name": "stdout",
     "output_type": "stream",
     "text": [
      "Enter year: 2018\n",
      "Enter month: 11\n",
      "   November 2018\n",
      "Mo Tu We Th Fr Sa Su\n",
      "          1  2  3  4\n",
      " 5  6  7  8  9 10 11\n",
      "12 13 14 15 16 17 18\n",
      "19 20 21 22 23 24 25\n",
      "26 27 28 29 30\n",
      "\n"
     ]
    }
   ],
   "source": [
    "#3.\tWrite a Python program to display calendar?\n",
    "import calendar\n",
    "\n",
    "year = int(input(\"Enter year: \"))\n",
    "month = int(input(\"Enter month: \"))\n",
    "\n",
    "print(calendar.month(year, month))"
   ]
  },
  {
   "cell_type": "code",
   "execution_count": 12,
   "metadata": {},
   "outputs": [
    {
     "name": "stdout",
     "output_type": "stream",
     "text": [
      "A quadratic equation is represented as ax^2 + bx + c = 0, where a, b, c are constants.\n",
      "Enter the value for integer a: 1\n",
      "Enter the value for integer b: -1\n",
      "Enter the value for integer c: -6\n",
      "The values of x that solve the quadratic equation are: -2.0 and 3.0\n"
     ]
    }
   ],
   "source": [
    "#4.\tWrite a Python program to solve quadratic equation?\n",
    "import math\n",
    "\n",
    "print('A quadratic equation is represented as ax^2 + bx + c = 0, where a, b, c are constants.')\n",
    "a = int(input('Enter the value for integer a: '))\n",
    "b = int(input('Enter the value for integer b: '))\n",
    "c = int(input('Enter the value for integer c: '))\n",
    "\n",
    "x1 = -(1*b+math.sqrt(b**2-4*a*c))/2*a\n",
    "x2 = -(1*b-math.sqrt(b**2-4*a*c))/2*a\n",
    "\n",
    "print('The values of x that solve the quadratic equation are: {} and {}'.format(x1,x2))"
   ]
  },
  {
   "cell_type": "code",
   "execution_count": 5,
   "metadata": {},
   "outputs": [
    {
     "name": "stdout",
     "output_type": "stream",
     "text": [
      "Enter an integer a: 10\n",
      "Enter another integer b: 30\n",
      "After swapping the variables, a = 30 and b = 10\n"
     ]
    }
   ],
   "source": [
    "#5.\tWrite a Python program to swap two variables without temp variable?\n",
    "a = int(input('Enter an integer a: '))\n",
    "b = int(input('Enter another integer b: '))\n",
    "\n",
    "a = a+b\n",
    "b = a-b\n",
    "a = a-b\n",
    "\n",
    "print('After swapping the variables, a = {} and b = {}'.format(a,b))"
   ]
  }
 ],
 "metadata": {
  "kernelspec": {
   "display_name": "Python 3",
   "language": "python",
   "name": "python3"
  },
  "language_info": {
   "codemirror_mode": {
    "name": "ipython",
    "version": 3
   },
   "file_extension": ".py",
   "mimetype": "text/x-python",
   "name": "python",
   "nbconvert_exporter": "python",
   "pygments_lexer": "ipython3",
   "version": "3.8.5"
  }
 },
 "nbformat": 4,
 "nbformat_minor": 4
}
