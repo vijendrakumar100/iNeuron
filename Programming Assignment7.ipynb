{
 "cells": [
  {
   "cell_type": "code",
   "execution_count": 12,
   "metadata": {},
   "outputs": [
    {
     "name": "stdout",
     "output_type": "stream",
     "text": [
      "[1, 2, 3, 4, 5]\n",
      "The sum of array is: 15\n"
     ]
    }
   ],
   "source": [
    "#1.\tWrite a Python Program to find sum of array?\n",
    "lst = [1,2,3,4,5]\n",
    "print(lst)\n",
    "print('The sum of array is:',sum(lst))"
   ]
  },
  {
   "cell_type": "code",
   "execution_count": 13,
   "metadata": {},
   "outputs": [
    {
     "name": "stdout",
     "output_type": "stream",
     "text": [
      "[1, 2, 3, 4, 5]\n",
      "The largest element in the array is: 5\n"
     ]
    }
   ],
   "source": [
    "#2.\tWrite a Python Program to find largest element in an array?\n",
    "lst = [1,2,3,4,5]\n",
    "print(lst)\n",
    "print('The largest element in the array is:',max(lst))"
   ]
  },
  {
   "cell_type": "code",
   "execution_count": 48,
   "metadata": {},
   "outputs": [
    {
     "name": "stdout",
     "output_type": "stream",
     "text": [
      "Original list: [1, 2, 3, 4, 5]\n",
      "Enter no. of positions by which you want to rotate the list: 3\n",
      "Rotated list: [4, 5, 1, 2, 3]\n"
     ]
    }
   ],
   "source": [
    "#3.\tWrite a Python Program for array rotation?\n",
    "lst = [1,2,3,4,5]\n",
    "print('Original list:',lst)\n",
    "rotate = int(input('Enter no. of positions by which you want to rotate the list: '))\n",
    "lst_len = len(lst)\n",
    "lst2 = lst.copy()\n",
    "for i in range(lst_len):\n",
    "    if i+rotate>lst_len-1:\n",
    "        lst2[i]=lst[i+rotate-lst_len]\n",
    "    elif i+rotate<=lst_len-1:\n",
    "        lst2[i]=lst[i+rotate]\n",
    "print('Rotated list:',lst2)"
   ]
  },
  {
   "cell_type": "code",
   "execution_count": 49,
   "metadata": {},
   "outputs": [
    {
     "name": "stdout",
     "output_type": "stream",
     "text": [
      "Original list: [1, 2, 3, 4, 5]\n",
      "Modified list: [2, 3, 4, 5, 1]\n"
     ]
    }
   ],
   "source": [
    "#4.\tWrite a Python Program to Split the array and add the first part to the end?\n",
    "lst = [1,2,3,4,5]\n",
    "print('Original list:',lst)\n",
    "temp=lst[0]\n",
    "lst.pop(0)\n",
    "lst.append(temp)\n",
    "print('Modified list:',lst)"
   ]
  },
  {
   "cell_type": "code",
   "execution_count": 52,
   "metadata": {},
   "outputs": [
    {
     "name": "stdout",
     "output_type": "stream",
     "text": [
      "True\n"
     ]
    }
   ],
   "source": [
    "#5.\tWrite a Python Program to check if given array is Monotonic?\n",
    "def isMonotonic(A):\n",
    "  \n",
    "    return (all(A[i] <= A[i + 1] for i in range(len(A) - 1)) or\n",
    "            all(A[i] >= A[i + 1] for i in range(len(A) - 1)))\n",
    "  \n",
    "# Driver program\n",
    "A = [6, 5, 4, 4]\n",
    "  \n",
    "# Print required result\n",
    "print(isMonotonic(A))"
   ]
  },
  {
   "cell_type": "code",
   "execution_count": null,
   "metadata": {},
   "outputs": [],
   "source": []
  }
 ],
 "metadata": {
  "kernelspec": {
   "display_name": "Python 3",
   "language": "python",
   "name": "python3"
  },
  "language_info": {
   "codemirror_mode": {
    "name": "ipython",
    "version": 3
   },
   "file_extension": ".py",
   "mimetype": "text/x-python",
   "name": "python",
   "nbconvert_exporter": "python",
   "pygments_lexer": "ipython3",
   "version": "3.8.5"
  }
 },
 "nbformat": 4,
 "nbformat_minor": 4
}
