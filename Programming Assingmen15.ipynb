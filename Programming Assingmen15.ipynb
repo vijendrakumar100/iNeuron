{
 "cells": [
  {
   "cell_type": "code",
   "execution_count": 5,
   "id": "a519ef71",
   "metadata": {},
   "outputs": [
    {
     "name": "stdout",
     "output_type": "stream",
     "text": [
      "0,35,70\n"
     ]
    }
   ],
   "source": [
    "'''\n",
    "Question 1:\n",
    "Please write a program using generator to print the numbers which can be divisible by 5 and 7 \n",
    "between 0 and n in comma separated form while n is input by console.\n",
    "Example:\n",
    "If the following n is given as input to the program:\n",
    "100\n",
    "Then, the output of the program should be:\n",
    "0,35,70\n",
    "'''\n",
    "\n",
    "class num:\n",
    "    def __init__(self, n):\n",
    "        self.n = n\n",
    "    \n",
    "    def seq(self):\n",
    "        lst = []\n",
    "        for i in range(self.n):\n",
    "            if i%7 == 0 and i%5 == 0:\n",
    "                lst.append(str(i))\n",
    "        return(','.join(lst))\n",
    "\n",
    "x = num(100)\n",
    "print(x.seq())"
   ]
  },
  {
   "cell_type": "code",
   "execution_count": 9,
   "id": "611bcfdb",
   "metadata": {},
   "outputs": [
    {
     "name": "stdout",
     "output_type": "stream",
     "text": [
      "0,2,4,6,8,10\n"
     ]
    }
   ],
   "source": [
    "'''\n",
    "Question 2:\n",
    "Please write a program using generator to print the even numbers between 0 and n in \n",
    "comma separated form while n is input by console.\n",
    "Example:\n",
    "If the following n is given as input to the program:\n",
    "10\n",
    "Then, the output of the program should be:\n",
    "0,2,4,6,8,10\n",
    "'''\n",
    "\n",
    "class num:\n",
    "    def __init__(self, n):\n",
    "        self.n = n\n",
    "    \n",
    "    def seq(self):\n",
    "        lst = [str(i) for i in range(self.n+1) if i%2 == 0]\n",
    "        return(','.join(lst))\n",
    "\n",
    "x = num(10)\n",
    "print(x.seq())"
   ]
  },
  {
   "cell_type": "code",
   "execution_count": 21,
   "id": "3c4deded",
   "metadata": {},
   "outputs": [
    {
     "name": "stdout",
     "output_type": "stream",
     "text": [
      "Enter a number to get the Fibonacci Sequence: 7\n",
      "0,1,1,2,3,5,8,13\n"
     ]
    }
   ],
   "source": [
    "'''\n",
    "Question 3:\n",
    "The Fibonacci Sequence is computed based on the following formula:\n",
    "f(n)=0 if n=0\n",
    "f(n)=1 if n=1\n",
    "f(n)=f(n-1)+f(n-2) if n>1\n",
    "Please write a program using list comprehension to print the Fibonacci Sequence in \n",
    "comma separated form with a given n input by console.\n",
    "Example:\n",
    "If the following n is given as input to the program:\n",
    "7\n",
    "\n",
    "Then, the output of the program should be:\n",
    "0,1,1,2,3,5,8,13\n",
    "'''\n",
    "\n",
    "def fib(n):\n",
    "    fib_list = [0,1]\n",
    "    [fib_list.append(fib_list[i-2]+fib_list[i-1]) for i in range(2,n+1)]\n",
    "    lst2 = [str(i) for i in fib_list]\n",
    "    print(','.join(lst2))\n",
    "\n",
    "num = int(input('Enter a number to get the Fibonacci Sequence: '))\n",
    "fib(7)"
   ]
  },
  {
   "cell_type": "code",
   "execution_count": 22,
   "id": "6d84a461",
   "metadata": {},
   "outputs": [
    {
     "name": "stdout",
     "output_type": "stream",
     "text": [
      "Enter the email address: john@google.com\n",
      "john\n"
     ]
    }
   ],
   "source": [
    "'''\n",
    "Question 4:\n",
    "Assuming that we have some email addresses in the \"username@companyname.com\" format, \n",
    "please write program to print the user name of a given email address. Both user names and \n",
    "company names are composed of letters only.\n",
    "Example:\n",
    "If the following email address is given as input to the program:\n",
    "john@google.com\n",
    "Then, the output of the program should be:\n",
    "john\n",
    "'''\n",
    "\n",
    "email = input('Enter the email address: ')\n",
    "print(email.split('@')[0])"
   ]
  },
  {
   "cell_type": "code",
   "execution_count": 33,
   "id": "c148ec00",
   "metadata": {},
   "outputs": [
    {
     "name": "stdout",
     "output_type": "stream",
     "text": [
      "25\n",
      "0\n"
     ]
    }
   ],
   "source": [
    "'''\n",
    "Question 5:\n",
    "Define a class named Shape and its subclass Square. The Square class has an init function which \n",
    "takes a length as argument. Both classes have a area function which can print the area of the \n",
    "shape where Shape's area is 0 by default.\n",
    "'''\n",
    "\n",
    "class Shape():\n",
    "    def __init__(self):\n",
    "        pass\n",
    "\n",
    "    def area(self):\n",
    "        return 0\n",
    "\n",
    "class Square(Shape):\n",
    "    def __init__(self,length = 0):\n",
    "        Shape.__init__(self)\n",
    "        self.length = length\n",
    "\n",
    "    def area(self):\n",
    "        return self.length*self.length\n",
    "\n",
    "Asqr = Square(5)\n",
    "print(Asqr.area())\n",
    "\n",
    "print(Square().area()) "
   ]
  }
 ],
 "metadata": {
  "kernelspec": {
   "display_name": "Python 3",
   "language": "python",
   "name": "python3"
  },
  "language_info": {
   "codemirror_mode": {
    "name": "ipython",
    "version": 3
   },
   "file_extension": ".py",
   "mimetype": "text/x-python",
   "name": "python",
   "nbconvert_exporter": "python",
   "pygments_lexer": "ipython3",
   "version": "3.8.8"
  }
 },
 "nbformat": 4,
 "nbformat_minor": 5
}
