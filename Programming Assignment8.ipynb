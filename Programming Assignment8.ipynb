{
 "cells": [
  {
   "cell_type": "code",
   "execution_count": 25,
   "metadata": {},
   "outputs": [
    {
     "name": "stdout",
     "output_type": "stream",
     "text": [
      "Matrix 1:\n",
      " [[8 3 1 7]\n",
      " [6 5 6 8]\n",
      " [3 1 6 1]]\n",
      "Matrix 2:\n",
      " [[11 17 13 15]\n",
      " [18 19 14 13]\n",
      " [12 17 14 16]]\n",
      "Sum of the 2 matrices:\n",
      " [[19 20 14 22]\n",
      " [24 24 20 21]\n",
      " [15 18 20 17]]\n"
     ]
    }
   ],
   "source": [
    "#1.\tWrite a Python Program to Add Two Matrices?\n",
    "import numpy as np\n",
    "m1 = np.random.randint(1,10,size=(3,4))\n",
    "m2 = np.random.randint(11,20,size=(3,4))\n",
    "print('Matrix 1:\\n',m1)\n",
    "print('Matrix 2:\\n',m2)\n",
    "print('Sum of the 2 matrices:\\n',m1+m2)"
   ]
  },
  {
   "cell_type": "code",
   "execution_count": 26,
   "metadata": {},
   "outputs": [
    {
     "name": "stdout",
     "output_type": "stream",
     "text": [
      "Matrix 1:\n",
      " [[1 8 6 4]\n",
      " [8 4 1 8]\n",
      " [1 9 5 1]]\n",
      "Matrix 2:\n",
      " [[11 16 13]\n",
      " [11 13 15]\n",
      " [15 19 15]\n",
      " [19 11 18]]\n",
      "Product of the 2 matrices:\n",
      " [[265 278 295]\n",
      " [299 287 323]\n",
      " [204 239 241]]\n"
     ]
    }
   ],
   "source": [
    "#2.\tWrite a Python Program to Multiply Two Matrices?\n",
    "import numpy as np\n",
    "m1 = np.random.randint(1,10,size=(3,4))\n",
    "m2 = np.random.randint(11,20,size=(4,3))\n",
    "print('Matrix 1:\\n',m1)\n",
    "print('Matrix 2:\\n',m2)\n",
    "print('Product of the 2 matrices:\\n',np.matmul(m1,m2))"
   ]
  },
  {
   "cell_type": "code",
   "execution_count": 27,
   "metadata": {},
   "outputs": [
    {
     "name": "stdout",
     "output_type": "stream",
     "text": [
      "Matrix:\n",
      " [[4 1 9 4]\n",
      " [5 6 6 3]\n",
      " [4 8 3 6]]\n",
      "Transposed matrix:\n",
      " [[4 5 4]\n",
      " [1 6 8]\n",
      " [9 6 3]\n",
      " [4 3 6]]\n"
     ]
    }
   ],
   "source": [
    "#3.\tWrite a Python Program to Transpose a Matrix?\n",
    "import numpy as np\n",
    "m1 = np.random.randint(1,10,size=(3,4))\n",
    "print('Matrix:\\n',m1)\n",
    "print('Transposed matrix:\\n',m1.T)"
   ]
  },
  {
   "cell_type": "code",
   "execution_count": 31,
   "metadata": {},
   "outputs": [
    {
     "name": "stdout",
     "output_type": "stream",
     "text": [
      "Original list:  ['Zebra', 'Apple', 'Alpha@123', 'Ball', 'Yatch', 'Tree', 'Cat']\n",
      "Sorted list:  ['Alpha@123', 'Apple', 'Ball', 'Cat', 'Tree', 'Yatch', 'Zebra']\n"
     ]
    }
   ],
   "source": [
    "#4.\tWrite a Python Program to Sort Words in Alphabetic Order?\n",
    "words = ['Zebra','Apple','Alpha@123','Ball','Yatch','Tree','Cat']\n",
    "print('Original list: ',words)\n",
    "words.sort()\n",
    "print('Sorted list: ',words)"
   ]
  },
  {
   "cell_type": "code",
   "execution_count": 32,
   "metadata": {},
   "outputs": [
    {
     "name": "stdout",
     "output_type": "stream",
     "text": [
      "While he Mr Smith was writing his book Magic the little known world he stated I always… wanted to ask a magician How do you do it he luckily got the chance while he was living above a mathbased magic shop where he lived from 1993 — 1997 called 21+233=x\n"
     ]
    }
   ],
   "source": [
    "#5.\tWrite a Python Program to Remove Punctuation From a String?\n",
    "string = \"While he [Mr. Smith] was writing his book, Magic: the little known world! he stated, \\\"I always… wanted to ask a magician, 'How do you do it?''\\\"; he luckily got the chance while he was living above a math-based magic shop (where he lived from 1993 — 1997) called 2{1+[23-3]}=x.\"\n",
    "\n",
    "punctuations = '''!()-[]{};:'\"\\,<>./?@#$%^&*_~'''\n",
    "\n",
    "# remove punctuation from the string\n",
    "no_punct = \"\"\n",
    "for char in string:\n",
    "   if char not in punctuations:\n",
    "       no_punct = no_punct + char\n",
    "\n",
    "# display the unpunctuated string\n",
    "print(no_punct)"
   ]
  },
  {
   "cell_type": "code",
   "execution_count": null,
   "metadata": {},
   "outputs": [],
   "source": []
  }
 ],
 "metadata": {
  "kernelspec": {
   "display_name": "Python 3",
   "language": "python",
   "name": "python3"
  },
  "language_info": {
   "codemirror_mode": {
    "name": "ipython",
    "version": 3
   },
   "file_extension": ".py",
   "mimetype": "text/x-python",
   "name": "python",
   "nbconvert_exporter": "python",
   "pygments_lexer": "ipython3",
   "version": "3.8.5"
  }
 },
 "nbformat": 4,
 "nbformat_minor": 4
}
