{
 "cells": [
  {
   "cell_type": "code",
   "execution_count": 29,
   "metadata": {},
   "outputs": [
    {
     "name": "stdout",
     "output_type": "stream",
     "text": [
      "Enter a number: 77\n",
      "Enter another number: 60\n",
      "The L.C.M. is 4620\n"
     ]
    }
   ],
   "source": [
    "#1.\tWrite a Python Program to Find LCM?\n",
    "x=int(input('Enter a number: '))\n",
    "y=int(input('Enter another number: '))\n",
    "\n",
    "if x > y:\n",
    "    greater = x\n",
    "else:\n",
    "    greater = y\n",
    "\n",
    "while(True):\n",
    "   if((greater % x == 0) and (greater % y == 0)):\n",
    "       lcm = greater\n",
    "       break\n",
    "   greater += 1\n",
    "\n",
    "print(\"The L.C.M. is\", lcm)"
   ]
  },
  {
   "cell_type": "code",
   "execution_count": 32,
   "metadata": {},
   "outputs": [
    {
     "name": "stdout",
     "output_type": "stream",
     "text": [
      "Enter a number: 72\n",
      "Enter another number: 60\n",
      "The H.C.F. is 12\n"
     ]
    }
   ],
   "source": [
    "#2.\tWrite a Python Program to Find HCF?\n",
    "x=int(input('Enter a number: '))\n",
    "y=int(input('Enter another number: '))\n",
    "\n",
    "if x > y:\n",
    "    smaller = y\n",
    "else:\n",
    "    smaller = x\n",
    "for i in range(1, smaller+1):\n",
    "    if((x % i == 0) and (y % i == 0)):\n",
    "        hcf = i \n",
    "\n",
    "print(\"The H.C.F. is\", hcf)"
   ]
  },
  {
   "cell_type": "code",
   "execution_count": 34,
   "metadata": {},
   "outputs": [
    {
     "name": "stdout",
     "output_type": "stream",
     "text": [
      "Enter a decimal number: 344\n",
      "The decimal value of 344 is:\n",
      "0b101011000 in binary.\n",
      "0o530 in octal.\n",
      "0x158 in hexadecimal.\n"
     ]
    }
   ],
   "source": [
    "#3.\tWrite a Python Program to Convert Decimal to Binary, Octal and Hexadecimal?\n",
    "dec = int(input('Enter a decimal number: '))\n",
    "\n",
    "print(\"The decimal value of\", dec, \"is:\")\n",
    "print(bin(dec), \"in binary.\")\n",
    "print(oct(dec), \"in octal.\")\n",
    "print(hex(dec), \"in hexadecimal.\")"
   ]
  },
  {
   "cell_type": "code",
   "execution_count": 38,
   "metadata": {},
   "outputs": [
    {
     "name": "stdout",
     "output_type": "stream",
     "text": [
      "Enter a character: @\n",
      "The ASCII value of '@' is 64\n"
     ]
    }
   ],
   "source": [
    "#4.\tWrite a Python Program To Find ASCII value of a character?\n",
    "c = input('Enter a character: ')\n",
    "print(\"The ASCII value of '\" + c + \"' is\", ord(c))"
   ]
  },
  {
   "cell_type": "code",
   "execution_count": 40,
   "metadata": {},
   "outputs": [
    {
     "name": "stdout",
     "output_type": "stream",
     "text": [
      "Enter a number: 90\n",
      "Enter another number: 56\n",
      "Press:\n",
      "1 for Addition\n",
      "2 for Subtraction\n",
      "3 for Multiplication\n",
      "4 for Division\n",
      "4\n",
      "90.0 / 56.0 = 1.6071428571428572\n"
     ]
    }
   ],
   "source": [
    "#5.\tWrite a Python Program to Make a Simple Calculator with 4 basic mathematical operations?\n",
    "def addition(a,b):\n",
    "    print(a,'+',b,'=',a+b)\n",
    "def subtraction(a,b):\n",
    "    print(a,'-',b,'=',a-b)\n",
    "def multiplication(a,b):\n",
    "    print(a,'*',b,'=',a*b)\n",
    "def division(a,b):\n",
    "    print(a,'/',b,'=',a/b)\n",
    "n1 = float(input('Enter a number: '))\n",
    "n2 = float(input('Enter another number: '))\n",
    "operation = int(input('Press:\\n1 for Addition\\n2 for Subtraction\\n3 for Multiplication\\n4 for Division\\n'))\n",
    "if operation == 1:\n",
    "    addition(n1,n2)\n",
    "if operation == 2:\n",
    "    subtraction(n1,n2)\n",
    "if operation == 3:\n",
    "    multiplication(n1,n2)\n",
    "if operation == 4:\n",
    "    division(n1,n2)"
   ]
  }
 ],
 "metadata": {
  "kernelspec": {
   "display_name": "Python 3",
   "language": "python",
   "name": "python3"
  },
  "language_info": {
   "codemirror_mode": {
    "name": "ipython",
    "version": 3
   },
   "file_extension": ".py",
   "mimetype": "text/x-python",
   "name": "python",
   "nbconvert_exporter": "python",
   "pygments_lexer": "ipython3",
   "version": "3.8.5"
  }
 },
 "nbformat": 4,
 "nbformat_minor": 4
}
