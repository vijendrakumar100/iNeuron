{
 "cells": [
  {
   "cell_type": "code",
   "execution_count": 23,
   "metadata": {},
   "outputs": [
    {
     "name": "stdout",
     "output_type": "stream",
     "text": [
      "2\n",
      "Invalid character encountered, exiting\n",
      "0\n"
     ]
    }
   ],
   "source": [
    "'''\n",
    "1. Write a function that takes a list of lists and returns the value of all of the symbols in it, \n",
    "where each symbol adds or takes something from the total score. Symbol values:\n",
    "# = 5 O = 3 X = 1 ! = -1 !! = -3 !!! = -5\n",
    "A list of lists containing 2 #s, a O, and a !!! would equal (0 + 5 + 5 + 3 - 5) 8.\n",
    "If the final score is negative, return 0 (e.g. 3 #s, 3 !!s, 2 !!!s and a X would be \n",
    "(0 + 5 + 5 + 5 - 3 - 3 - 3 - 5 - 5 + 1) -3, so return 0.\n",
    "\n",
    "Examples\n",
    "check_score([ [\"#\", \"!\"], [\"!!\", \"X\"] ]) ➞ 2\n",
    "check_score([ [\"!!!\", \"O\", \"!\"], [\"X\", \"#\", \"!!!\"], [\"!!\", \"X\", \"O\"] ]) ➞ 0\n",
    "'''\n",
    "\n",
    "def check_score(args):\n",
    "    score=0\n",
    "    mapping={'#': 5, 'O': 3, 'X': 1, '!': -1, '!!': -3, '!!!': -5}\n",
    "    for i in args:\n",
    "        for j in i:\n",
    "            if j not in ['#','O','X','!','!!','!!!']:\n",
    "                return('Invalid character encountered, exiting')\n",
    "            score+=mapping[j]\n",
    "    if score < 0:\n",
    "        return(0)\n",
    "    if score >= 0:\n",
    "        return(score)\n",
    "\n",
    "result = check_score([[\"#\", \"!\"],[\"!!\", \"X\"]])\n",
    "print(result)\n",
    "result = check_score([[\"#\", \"!\", \"a\"],[\"!!\", \"X\"]])\n",
    "print(result)\n",
    "result = check_score([[\"!!!\", \"O\", \"!\"],[\"X\", \"#\", \"!!!\"],[\"!!\", \"X\", \"O\"]])\n",
    "print(result)"
   ]
  },
  {
   "cell_type": "code",
   "execution_count": 25,
   "metadata": {},
   "outputs": [
    {
     "name": "stdout",
     "output_type": "stream",
     "text": [
      "6\n",
      "84\n",
      "120\n"
     ]
    }
   ],
   "source": [
    "'''\n",
    "2. Create a function that takes a variable number of arguments, each argument representing \n",
    "the number of items in a group, and returns the number of permutations (combinations) of items \n",
    "that you could get by taking one item from each group.\n",
    "\n",
    "Examples\n",
    "combinations(2, 3) ➞ 6\n",
    "combinations(3, 7, 4) ➞ 84\n",
    "combinations(2, 3, 4, 5) ➞ 120\n",
    "'''\n",
    "\n",
    "def combinations(*args):\n",
    "    perm = 1\n",
    "    for i in args:\n",
    "        perm*=i\n",
    "    return(perm)\n",
    "\n",
    "result = combinations(2,3)\n",
    "print(result)\n",
    "result = combinations(3,7,4)\n",
    "print(result)\n",
    "result = combinations(2,3,4,5)\n",
    "print(result)"
   ]
  },
  {
   "cell_type": "code",
   "execution_count": 30,
   "metadata": {},
   "outputs": [
    {
     "name": "stdout",
     "output_type": "stream",
     "text": [
      "EDABBIT CHALLENGE ---> . -.. .- -... -... .. -   -.-. .... .- .-.. .-.. . -. --. .\n",
      "HELP ME ! ---> .... . .-.. .--.   -- .   -.-.--\n"
     ]
    }
   ],
   "source": [
    "'''\n",
    "3. Create a function that takes a string as an argument and returns the Morse code equivalent.\n",
    "\n",
    "Examples\n",
    "\n",
    "encode_morse(\"EDABBIT CHALLENGE\") ➞ \". -.. .- -... -... .. -   -.-. .... .- .-.. .-.. . -. --. .\"\n",
    "\n",
    "encode_morse(\"HELP ME !\") ➞ \".... . .-.. .--.   -- .   -.-.--\"\n",
    "\n",
    "This dictionary can be used for coding:\n",
    "\n",
    "char_to_dots = {\n",
    "  'A': '.-', 'B': '-...', 'C': '-.-.', 'D': '-..', 'E': '.', 'F': '..-.',\n",
    "  'G': '--.', 'H': '....', 'I': '..', 'J': '.---', 'K': '-.-', 'L': '.-..',\n",
    "  'M': '--', 'N': '-.', 'O': '---', 'P': '.--.', 'Q': '--.-', 'R': '.-.',\n",
    "  'S': '...', 'T': '-', 'U': '..-', 'V': '...-', 'W': '.--', 'X': '-..-',\n",
    "  'Y': '-.--', 'Z': '--..', ' ': ' ', '0': '-----',\n",
    "  '1': '.----', '2': '..---', '3': '...--', '4': '....-', '5': '.....',\n",
    "  '6': '-....', '7': '--...', '8': '---..', '9': '----.',\n",
    "  '&': '.-...', \"'\": '.----.', '@': '.--.-.', ')': '-.--.-', '(': '-.--.',\n",
    "  ':': '---...', ',': '--..--', '=': '-...-', '!': '-.-.--', '.': '.-.-.-',\n",
    "  '-': '-....-', '+': '.-.-.', '\"': '.-..-.', '?': '..--..', '/': '-..-.'\n",
    "}\n",
    "'''\n",
    "\n",
    "def encode_morse(text):\n",
    "    char_to_dots = {\n",
    "        'A': '.-', 'B': '-...', 'C': '-.-.', 'D': '-..', 'E': '.', 'F': '..-.',\n",
    "        'G': '--.', 'H': '....', 'I': '..', 'J': '.---', 'K': '-.-', 'L': '.-..',\n",
    "        'M': '--', 'N': '-.', 'O': '---', 'P': '.--.', 'Q': '--.-', 'R': '.-.',\n",
    "        'S': '...', 'T': '-', 'U': '..-', 'V': '...-', 'W': '.--', 'X': '-..-',\n",
    "        'Y': '-.--', 'Z': '--..', ' ': ' ', '0': '-----',\n",
    "        '1': '.----', '2': '..---', '3': '...--', '4': '....-', '5': '.....',\n",
    "        '6': '-....', '7': '--...', '8': '---..', '9': '----.',\n",
    "        '&': '.-...', \"'\": '.----.', '@': '.--.-.', ')': '-.--.-', '(': '-.--.',\n",
    "        ':': '---...', ',': '--..--', '=': '-...-', '!': '-.-.--', '.': '.-.-.-',\n",
    "        '-': '-....-', '+': '.-.-.', '\"': '.-..-.', '?': '..--..', '/': '-..-.'\n",
    "    }\n",
    "    \n",
    "    morse_code=''\n",
    "    for i in text:\n",
    "        morse_code = morse_code+char_to_dots[i]+' '\n",
    "    return(morse_code.strip())\n",
    "\n",
    "text = \"EDABBIT CHALLENGE\"\n",
    "result = encode_morse(text)\n",
    "print(text,'--->',result)\n",
    "\n",
    "text = \"HELP ME !\"\n",
    "result = encode_morse(text)\n",
    "print(text,'--->',result)"
   ]
  },
  {
   "cell_type": "code",
   "execution_count": 64,
   "metadata": {},
   "outputs": [
    {
     "name": "stdout",
     "output_type": "stream",
     "text": [
      "Enter a number to check if it's a prime number18001\n"
     ]
    },
    {
     "data": {
      "text/plain": [
       "False"
      ]
     },
     "execution_count": 64,
     "metadata": {},
     "output_type": "execute_result"
    }
   ],
   "source": [
    "'''\n",
    "4. Write a function that takes a number and returns True if it's a prime; False otherwise. \n",
    "The number can be 2^64-1 (2 to the power of 63, not XOR). With the standard technique it would be O(2^64-1), \n",
    "which is much too large for the 10 second time limit.\n",
    "\n",
    "Examples\n",
    "prime(7) ➞ True\n",
    "prime(56963) ➞ True\n",
    "prime(5151512515524) ➞ False\n",
    "'''\n",
    "def prime(number):\n",
    "    if number <= 1:\n",
    "        return(False)\n",
    "    if number == 2:\n",
    "        return(True)\n",
    "    if number>2 and number%2 == 0:\n",
    "        return(False)\n",
    "    sum = 0\n",
    "    for i in range(3,math.floor(math.sqrt(number))+1):\n",
    "        if number%i == 0:\n",
    "            sum += 1\n",
    "    if sum == 0:\n",
    "        return(True)\n",
    "    else:\n",
    "        return(False)\n",
    "\n",
    "x = int(input('Enter a number to check if it\\'s a prime number'))\n",
    "prime(x)"
   ]
  },
  {
   "cell_type": "code",
   "execution_count": 63,
   "metadata": {},
   "outputs": [
    {
     "name": "stdout",
     "output_type": "stream",
     "text": [
      "Enter a word: loves\n",
      "Bitstring: 01011\n",
      "Boolean list: [False, True, False, True, True]\n"
     ]
    }
   ],
   "source": [
    "'''\n",
    "5. Create a function that converts a word to a bitstring and then to a boolean list based on the following criteria:\n",
    "\n",
    "    1. Locate the position of the letter in the English alphabet (from 1 to 26).\n",
    "    2. Odd positions will be represented as 1 and 0 otherwise.\n",
    "    3. Convert the represented positions to boolean values, 1 for True and 0 for False.\n",
    "    4. Store the conversions into an array.\n",
    "\n",
    " Examples\n",
    "\n",
    "to_boolean_list(\"deep\") ➞ [False, True, True, False]\n",
    "# deep converts to 0110\n",
    "# d is the 4th alphabet - 0\n",
    "# e is the 5th alphabet - 1\n",
    "# e is the 5th alphabet - 1\n",
    "# p is the 16th alphabet - 0\n",
    "\n",
    "to_boolean_list(\"loves\") ➞ [False, True, False, True, True]\n",
    "\n",
    "to_boolean_list(\"tesh\") ➞ [False, True, True, False]\n",
    "\n",
    "'''\n",
    "import string\n",
    "def to_boolean_list(word):\n",
    "    alphabet_list = list(string.ascii_lowercase)\n",
    "    bit_list = ['0' if (alphabet_list.index(i)+1)%2==0 else '1' for i in word]\n",
    "    bitstring = ''.join(bit_list)\n",
    "    print('Bitstring:',bitstring)\n",
    "    print('Boolean list:',list(map(lambda a:True if a=='1' else False,bit_list)))\n",
    "x = input('Enter a word: ')\n",
    "to_boolean_list(x)"
   ]
  }
 ],
 "metadata": {
  "kernelspec": {
   "display_name": "Python 3",
   "language": "python",
   "name": "python3"
  },
  "language_info": {
   "codemirror_mode": {
    "name": "ipython",
    "version": 3
   },
   "file_extension": ".py",
   "mimetype": "text/x-python",
   "name": "python",
   "nbconvert_exporter": "python",
   "pygments_lexer": "ipython3",
   "version": "3.8.5"
  }
 },
 "nbformat": 4,
 "nbformat_minor": 4
}
