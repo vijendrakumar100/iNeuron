{
 "cells": [
  {
   "cell_type": "code",
   "execution_count": 10,
   "metadata": {},
   "outputs": [
    {
     "name": "stdout",
     "output_type": "stream",
     "text": [
      "Enter a positive integer to get it's factorial: 6\n",
      "The factorial of 6 is: 720\n"
     ]
    }
   ],
   "source": [
    "#1.\tWrite a Python Program to Find the Factorial of a Number?\n",
    "x = int(input('Enter a positive integer to get it\\'s factorial: '))\n",
    "\n",
    "if x in [0,1]:\n",
    "    print('The factorial of {} is: 1'.format(x))\n",
    "else:\n",
    "    factorial = 1\n",
    "    for i in range(1,x+1,1):\n",
    "        factorial*=i\n",
    "    print('The factorial of {} is: {}'.format(x,factorial))"
   ]
  },
  {
   "cell_type": "code",
   "execution_count": 13,
   "metadata": {
    "collapsed": true
   },
   "outputs": [
    {
     "name": "stdout",
     "output_type": "stream",
     "text": [
      "Enter a number to get it's multiplication table: 17\n",
      "17 * 1 = 17\n",
      "17 * 2 = 34\n",
      "17 * 3 = 51\n",
      "17 * 4 = 68\n",
      "17 * 5 = 85\n",
      "17 * 6 = 102\n",
      "17 * 7 = 119\n",
      "17 * 8 = 136\n",
      "17 * 9 = 153\n",
      "17 * 10 = 170\n"
     ]
    }
   ],
   "source": [
    "#2.\tWrite a Python Program to Display the multiplication Table?\n",
    "x = int(input('Enter a number to get it\\'s multiplication table: '))\n",
    "\n",
    "for i in range(1,11):\n",
    "    print('{} * {} = {}'.format(x,i,x*i))"
   ]
  },
  {
   "cell_type": "code",
   "execution_count": 15,
   "metadata": {},
   "outputs": [
    {
     "name": "stdout",
     "output_type": "stream",
     "text": [
      "How many numbers from the Fibonacci sequence do you want to see?10\n",
      "[0, 1, 1, 2, 3, 5, 8, 13, 21, 34]\n"
     ]
    }
   ],
   "source": [
    "#3.\tWrite a Python Program to Print the Fibonacci sequence?\n",
    "x = int(input('How many numbers from the Fibonacci sequence do you want to see?'))\n",
    "\n",
    "a=0\n",
    "b=1\n",
    "fib_list = [a,b]\n",
    "for i in range(x-2):\n",
    "    c=b\n",
    "    b=a+b\n",
    "    a=c\n",
    "    fib_list.append(b)\n",
    "\n",
    "print(fib_list)"
   ]
  },
  {
   "cell_type": "code",
   "execution_count": 29,
   "metadata": {},
   "outputs": [
    {
     "name": "stdout",
     "output_type": "stream",
     "text": [
      "Enter a number to check if it's Armstrong Number: 372\n",
      "372 is not an Armstrong Number\n"
     ]
    }
   ],
   "source": [
    "#4.\tWrite a Python Program to Check Armstrong Number?\n",
    "x=input('Enter a number to check if it\\'s Armstrong Number: ')\n",
    "\n",
    "len_x = len(x)\n",
    "cube_sum = 0\n",
    "for i in range(len_x):\n",
    "    cube_sum+=int(x[i])**3\n",
    "\n",
    "if int(x)==cube_sum:\n",
    "    print('{} is an Armstrong Number'.format(x))\n",
    "else:\n",
    "    print('{} is not an Armstrong Number'.format(x))"
   ]
  },
  {
   "cell_type": "code",
   "execution_count": 33,
   "metadata": {},
   "outputs": [
    {
     "name": "stdout",
     "output_type": "stream",
     "text": [
      "Enter the lower value of the interval: 0\n",
      "Enter the upper value of the interval: 410\n",
      "Armstrong number(s):  [0, 1, 153, 370, 371, 407]\n"
     ]
    }
   ],
   "source": [
    "#5.\tWrite a Python Program to Find Armstrong Number in an Interval?\n",
    "start=int(input('Enter the lower value of the interval: '))\n",
    "stop=int(input('Enter the upper value of the interval: '))\n",
    "\n",
    "arm_lst = []\n",
    "for i in range(start, stop+1, 1):\n",
    "    x = str(i)\n",
    "    len_x = len(x)\n",
    "    cube_sum = 0\n",
    "    for j in range(len_x):\n",
    "        cube_sum+=int(x[j])**3\n",
    "    if int(x)==cube_sum:\n",
    "        arm_lst.append(int(x))\n",
    "\n",
    "print('Armstrong number(s): ',arm_lst)"
   ]
  },
  {
   "cell_type": "code",
   "execution_count": 36,
   "metadata": {},
   "outputs": [
    {
     "name": "stdout",
     "output_type": "stream",
     "text": [
      "Enter a natural number: 20\n",
      "the Sum of Natural Numbers for 20 is 210\n"
     ]
    }
   ],
   "source": [
    "#6.\tWrite a Python Program to Find the Sum of Natural Numbers?\n",
    "x = int(input('Enter a natural number: '))\n",
    "\n",
    "sum = 0\n",
    "for i in range(x+1):\n",
    "    sum+=i\n",
    "\n",
    "print('the Sum of Natural Numbers for {} is {}'.format(x,sum))"
   ]
  }
 ],
 "metadata": {
  "kernelspec": {
   "display_name": "Python 3",
   "language": "python",
   "name": "python3"
  },
  "language_info": {
   "codemirror_mode": {
    "name": "ipython",
    "version": 3
   },
   "file_extension": ".py",
   "mimetype": "text/x-python",
   "name": "python",
   "nbconvert_exporter": "python",
   "pygments_lexer": "ipython3",
   "version": "3.8.5"
  }
 },
 "nbformat": 4,
 "nbformat_minor": 4
}
