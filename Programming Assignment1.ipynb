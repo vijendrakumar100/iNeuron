{
 "cells": [
  {
   "cell_type": "code",
   "execution_count": 1,
   "metadata": {},
   "outputs": [
    {
     "name": "stdout",
     "output_type": "stream",
     "text": [
      "Hello Python\n"
     ]
    }
   ],
   "source": [
    "#1.\tWrite a Python program to print \"Hello Python\"?\n",
    "print(\"Hello Python\")"
   ]
  },
  {
   "cell_type": "code",
   "execution_count": 4,
   "metadata": {},
   "outputs": [
    {
     "name": "stdout",
     "output_type": "stream",
     "text": [
      "Enter an integer: 13\n",
      "Enter another integer: 5\n",
      "The sum is: 18\n",
      "The result of division is: 2.0 with a remainder of 3\n"
     ]
    }
   ],
   "source": [
    "#2.\tWrite a Python program to do arithmetical operations addition and division.?\n",
    "a=int(input('Enter an integer: '))\n",
    "b=int(input('Enter another integer: '))\n",
    "addition = a+b\n",
    "quotient = a/b\n",
    "remainder = a%b\n",
    "print('The sum is: {}'.format(addition))\n",
    "print('The result of division is: {} with a remainder of {}'.format(division,remainder))"
   ]
  },
  {
   "cell_type": "code",
   "execution_count": 5,
   "metadata": {},
   "outputs": [
    {
     "name": "stdout",
     "output_type": "stream",
     "text": [
      "Enter height of the triangle: 10\n",
      "Enter base of the triangle: 15\n",
      "The area of the triangle is: 75.0\n"
     ]
    }
   ],
   "source": [
    "#3.\tWrite a Python program to find the area of a triangle?\n",
    "height=int(input('Enter height of the triangle: '))\n",
    "base=int(input('Enter base of the triangle: '))\n",
    "area = 0.5*height*base\n",
    "print('The area of the triangle is: {}'.format(area))"
   ]
  },
  {
   "cell_type": "code",
   "execution_count": 19,
   "metadata": {},
   "outputs": [
    {
     "name": "stdout",
     "output_type": "stream",
     "text": [
      "Enter an integer a: 5\n",
      "Enter another integer b: 6\n",
      "After swapping the variables, a = 6 and b = 5\n"
     ]
    }
   ],
   "source": [
    "#4.\tWrite a Python program to swap two variables?\n",
    "a = int(input('Enter an integer a: '))\n",
    "b = int(input('Enter another integer b: '))\n",
    "a = a+b\n",
    "b = a-b\n",
    "a = a-b\n",
    "print('After swapping the variables, a = {} and b = {}'.format(a,b))"
   ]
  },
  {
   "cell_type": "code",
   "execution_count": 17,
   "metadata": {},
   "outputs": [
    {
     "name": "stdout",
     "output_type": "stream",
     "text": [
      "77\n"
     ]
    }
   ],
   "source": [
    "#5.\tWrite a Python program to generate a random number?\n",
    "import numpy as np\n",
    "print(np.random.randint(100))"
   ]
  }
 ],
 "metadata": {
  "kernelspec": {
   "display_name": "Python 3",
   "language": "python",
   "name": "python3"
  },
  "language_info": {
   "codemirror_mode": {
    "name": "ipython",
    "version": 3
   },
   "file_extension": ".py",
   "mimetype": "text/x-python",
   "name": "python",
   "nbconvert_exporter": "python",
   "pygments_lexer": "ipython3",
   "version": "3.8.5"
  }
 },
 "nbformat": 4,
 "nbformat_minor": 4
}
