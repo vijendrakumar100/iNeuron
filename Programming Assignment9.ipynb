{
 "cells": [
  {
   "cell_type": "code",
   "execution_count": 9,
   "metadata": {},
   "outputs": [
    {
     "name": "stdout",
     "output_type": "stream",
     "text": [
      "Enter a number: 135\n",
      "135 is a Disarium Number\n"
     ]
    }
   ],
   "source": [
    "#1.\tWrite a Python program to check if the given number is a Disarium Number?\n",
    "x = input('Enter a number: ')\n",
    "sum = 0\n",
    "for i in range(1,len(x)+1,1):\n",
    "    sum += int(x[i-1])**i\n",
    "if sum == int(x):\n",
    "    print(x,'is a Disarium Number')\n",
    "else:\n",
    "    print(x,'is not a Disarium Number')"
   ]
  },
  {
   "cell_type": "code",
   "execution_count": 11,
   "metadata": {},
   "outputs": [
    {
     "name": "stdout",
     "output_type": "stream",
     "text": [
      "[1, 2, 3, 4, 5, 6, 7, 8, 9, 89]\n"
     ]
    }
   ],
   "source": [
    "#2.\tWrite a Python program to print all disarium numbers between 1 to 100?\n",
    "dis_lst = []\n",
    "for j in range(1,101):\n",
    "    x=str(j)\n",
    "    sum = 0\n",
    "    for i in range(1,len(x)+1,1):\n",
    "        sum += int(x[i-1])**i\n",
    "    if sum == int(x):\n",
    "        dis_lst.append(j)\n",
    "print(dis_lst)"
   ]
  },
  {
   "cell_type": "code",
   "execution_count": 9,
   "metadata": {},
   "outputs": [
    {
     "name": "stdout",
     "output_type": "stream",
     "text": [
      "Enter a number: 20\n",
      "20 is not a Happy Number\n"
     ]
    }
   ],
   "source": [
    "#3.\tWrite a Python program to check if the given number is Happy Number?\n",
    "x = input('Enter a number: ')\n",
    "y = x\n",
    "while(1):\n",
    "    summ = 0\n",
    "    for i in range(len(y)):\n",
    "        summ += int(y[i])**2\n",
    "    y = str(summ)\n",
    "    if len(y)==1 and int(y)==1:\n",
    "        print(x,'is a Happy Number')\n",
    "        break\n",
    "    if len(y)==1 and int(y)!=1:\n",
    "        print(x,'is not a Happy Number')\n",
    "        break\n"
   ]
  },
  {
   "cell_type": "code",
   "execution_count": 10,
   "metadata": {},
   "outputs": [
    {
     "name": "stdout",
     "output_type": "stream",
     "text": [
      "[1, 7, 10, 13, 19, 23, 28, 31, 32, 44, 49, 68, 70, 79, 82, 86, 91, 94, 97, 100]\n"
     ]
    }
   ],
   "source": [
    "#4.\tWrite a Python program to print all happy numbers between 1 and 100?\n",
    "happy_list = []\n",
    "for x in range(1,101):\n",
    "    y = str(x)\n",
    "    while(1):\n",
    "        summ = 0\n",
    "        for i in range(len(y)):\n",
    "            summ += int(y[i])**2\n",
    "        y = str(summ)\n",
    "        if len(y)==1 and int(y)==1:\n",
    "            happy_list.append(x)\n",
    "            break\n",
    "        if len(y)==1 and int(y)!=1:\n",
    "            break\n",
    "print(happy_list)"
   ]
  },
  {
   "cell_type": "code",
   "execution_count": 15,
   "metadata": {},
   "outputs": [
    {
     "name": "stdout",
     "output_type": "stream",
     "text": [
      "Enter a number: 45\n",
      "45 is a Harshad Number\n"
     ]
    }
   ],
   "source": [
    "#5.\tWrite a Python program to determine whether the given number is a Harshad Number?\n",
    "x = input('Enter a number: ')\n",
    "sum = 0\n",
    "for i in range(1,len(x)+1,1):\n",
    "    sum += int(x[i-1])\n",
    "if int(x)%sum == 0:\n",
    "    print(x,'is a Harshad Number')\n",
    "else:\n",
    "    print(x,'is not a Harshad Number')"
   ]
  },
  {
   "cell_type": "code",
   "execution_count": 18,
   "metadata": {},
   "outputs": [
    {
     "name": "stdout",
     "output_type": "stream",
     "text": [
      "[2, 6, 12, 20, 30, 42, 56, 72, 90]\n"
     ]
    }
   ],
   "source": [
    "#6.\tWrite a Python program to print all pronic numbers between 1 and 100?\n",
    "pronic_list = []\n",
    "i=1\n",
    "while(True):\n",
    "    if i*(i+1) <= 100:\n",
    "        pronic_list.append(i*(i+1))\n",
    "    if i*(i+1) > 100:\n",
    "        break\n",
    "    i+=1\n",
    "print(pronic_list)"
   ]
  }
 ],
 "metadata": {
  "kernelspec": {
   "display_name": "Python 3",
   "language": "python",
   "name": "python3"
  },
  "language_info": {
   "codemirror_mode": {
    "name": "ipython",
    "version": 3
   },
   "file_extension": ".py",
   "mimetype": "text/x-python",
   "name": "python",
   "nbconvert_exporter": "python",
   "pygments_lexer": "ipython3",
   "version": "3.8.5"
  }
 },
 "nbformat": 4,
 "nbformat_minor": 4
}
