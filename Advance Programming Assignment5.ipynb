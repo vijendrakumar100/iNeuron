{
 "cells": [
  {
   "cell_type": "markdown",
   "metadata": {},
   "source": [
    "### 1.\n",
    "Create a function that takes a number n (integer greater than zero) as an argument, and returns 2 if n is odd and 8 if n is even.\n",
    "\n",
    "You can only use the following arithmetic operators: addition of numbers +, subtraction of numbers -, multiplication of number *, division of number /, and exponentiation **.\n",
    "\n",
    "You are not allowed to use any other methods in this challenge (i.e. no if statements, comparison operators, etc).\n",
    "\n",
    "Examples\n",
    "\n",
    "f(1) ➞ 2\n",
    "\n",
    "f(2) ➞ 8\n",
    "\n",
    "f(3) ➞ 2"
   ]
  },
  {
   "cell_type": "code",
   "execution_count": 66,
   "metadata": {},
   "outputs": [
    {
     "name": "stdout",
     "output_type": "stream",
     "text": [
      "2\n",
      "8\n",
      "2\n"
     ]
    }
   ],
   "source": [
    "def f(num):\n",
    "    arr = [8, 2]\n",
    "    return arr[num%2]\n",
    "\n",
    "print(f(1))\n",
    "print(f(2))\n",
    "print(f(3))"
   ]
  },
  {
   "cell_type": "markdown",
   "metadata": {},
   "source": [
    "### 2.\n",
    "Create a function that returns the majority vote in a list. A majority vote is an element that occurs > N/2 times in a list (where N is the length of the list).\n",
    "\n",
    "Examples\n",
    "\n",
    "majority_vote([\"A\", \"A\", \"B\"]) ➞ \"A\"\n",
    "\n",
    "majority_vote([\"A\", \"A\", \"A\", \"B\", \"C\", \"A\"]) ➞ \"A\"\n",
    "\n",
    "majority_vote([\"A\", \"B\", \"B\", \"A\", \"C\", \"C\"]) ➞ None\n"
   ]
  },
  {
   "cell_type": "code",
   "execution_count": 20,
   "metadata": {},
   "outputs": [
    {
     "name": "stdout",
     "output_type": "stream",
     "text": [
      "A\n",
      "A\n",
      "None\n"
     ]
    }
   ],
   "source": [
    "from collections import Counter\n",
    "def majority_vote(lst):\n",
    "    count = Counter(lst)\n",
    "    for i,j in count.items():\n",
    "        if j > int(len(lst)/2):\n",
    "            return i\n",
    "        else:\n",
    "            return \"None\"\n",
    "print(majority_vote([\"A\", \"A\", \"B\"]))\n",
    "print(majority_vote([\"A\", \"A\", \"A\", \"B\", \"C\", \"A\"]))\n",
    "print(majority_vote([\"A\", \"B\", \"B\", \"A\", \"C\", \"C\"]))"
   ]
  },
  {
   "cell_type": "markdown",
   "metadata": {},
   "source": [
    "### 3.\n",
    "Create a function that takes a string txt and censors any word from a given list lst. The text removed must be replaced by the given character char.\n",
    "\n",
    "Examples\n",
    "\n",
    "censor_string(\"Today is a Wednesday!\", [\"Today\", \"a\"], \"-\") ➞ \"----- is - Wednesday!\"\n",
    "\n",
    "censor_string(\"The cow jumped over the moon.\", [\"cow\", \"over\"], \"*\"), \"The *** jumped **** the moon.\")\n",
    "\n",
    "censor_string(\"Why did the chicken cross the road?\", [\"Did\", \"chicken\", \"road\"], \"*\") ➞ \"Why *** the ******* cross the ****?\"\n"
   ]
  },
  {
   "cell_type": "code",
   "execution_count": 33,
   "metadata": {},
   "outputs": [
    {
     "name": "stdout",
     "output_type": "stream",
     "text": [
      "Today is - Wednesday!\n",
      "The *** jumped **** the moon.\n",
      "Why *** the ******* cross the road?\n"
     ]
    }
   ],
   "source": [
    "def censor_string(txt, lst,rep_char):\n",
    "    txt_lst = txt.split()\n",
    "    for i in lst:\n",
    "        if i.lower() in txt_lst:\n",
    "            txt_lst[txt_lst.index(i.lower())] = rep_char*len(i)\n",
    "    return ' '.join(txt_lst)\n",
    "\n",
    "print(censor_string(\"Today is a Wednesday!\", [\"Today\", \"a\"], \"-\"))\n",
    "print(censor_string(\"The cow jumped over the moon.\", [\"cow\", \"over\"], \"*\"))\n",
    "print(censor_string(\"Why did the chicken cross the road?\", [\"Did\", \"chicken\", \"road\"], \"*\"))"
   ]
  },
  {
   "cell_type": "markdown",
   "metadata": {},
   "source": [
    "### 4.\n",
    "In mathematics a Polydivisible Number (or magic number) is a number in a given number base with digits abcde... that has the following properties:\n",
    "\n",
    "-  Its first digit a is not 0.\n",
    "- The number formed by its first two digits ab is a multiple of 2.\n",
    "- The number formed by its first three digits abc is a multiple of 3.\n",
    "- The number formed by its first four digits abcd is a multiple of 4.\n",
    "\n",
    "Create a function which takes an integer n and returns True if the given number is a Polydivisible Number and False otherwise.\n",
    "\n",
    "Examples\n",
    "\n",
    "is_polydivisible(1232) ➞ True\n",
    "#1     / 1 = 1\n",
    "#12    / 2 = 6\n",
    "#123   / 3 = 41\n",
    "#1232  / 4 = 308\n",
    "\n",
    "is_polydivisible(123220 ) ➞ False\n",
    "#1   / 1 = 1\n",
    "#12   / 2 = 6\n",
    "#123   / 3 = 41\n",
    "#1232   / 4 = 308\n",
    "#12322   / 5 = 2464.4         # Not a Whole Number\n",
    "#123220   /6 = 220536.333...  # Not a Whole Number\n"
   ]
  },
  {
   "cell_type": "code",
   "execution_count": 44,
   "metadata": {},
   "outputs": [
    {
     "name": "stdout",
     "output_type": "stream",
     "text": [
      "True\n",
      "False\n",
      "True\n",
      "Enter a number to check if it is a Polydivisible Number: 1\n",
      "True\n"
     ]
    }
   ],
   "source": [
    "def is_polydivisible(num):\n",
    "    num_str = str(num)\n",
    "    if int(num_str[0]) == 0:\n",
    "        return False\n",
    "    for i in range(1,len(num_str),1):\n",
    "        if int(num_str[:i+1])%(i+1) !=0:\n",
    "            return False\n",
    "    else:\n",
    "        return True\n",
    "\n",
    "print(is_polydivisible(1232))\n",
    "print(is_polydivisible(123220))\n",
    "print(is_polydivisible(1080548010360000180))\n",
    "\n",
    "x = input('Enter a number to check if it is a Polydivisible Number: ')\n",
    "print(is_polydivisible(x))"
   ]
  },
  {
   "cell_type": "markdown",
   "metadata": {},
   "source": [
    "### 5.\n",
    "Create a function that takes a list of numbers and returns the sum of all prime numbers in the list.\n",
    "\n",
    "Examples\n",
    "\n",
    "sum_primes([1, 2, 3, 4, 5, 6, 7, 8, 9, 10]) ➞ 17\n",
    "\n",
    "sum_primes([2, 3, 4, 11, 20, 50, 71]) ➞ 87\n",
    "\n",
    "sum_primes([]) ➞ None\n"
   ]
  },
  {
   "cell_type": "code",
   "execution_count": 64,
   "metadata": {},
   "outputs": [
    {
     "name": "stdout",
     "output_type": "stream",
     "text": [
      "17\n",
      "87\n",
      "None\n",
      "Enter a list of positive integers: 23, 45, 67,31,89, 100\n",
      "210\n"
     ]
    }
   ],
   "source": [
    "import math\n",
    "\n",
    "def check_prime(num):\n",
    "    if num in[0,1]:\n",
    "        return False\n",
    "    if num == 2:\n",
    "        return True\n",
    "    if num > 2 and num%2 == 0:\n",
    "        return False\n",
    "    for k in range(2,math.floor(math.sqrt(num))+1):\n",
    "        if num%k == 0:\n",
    "            return False\n",
    "    else:\n",
    "        return True\n",
    "\n",
    "def sum_primes(lst):\n",
    "    if lst == []:\n",
    "        return None\n",
    "    prime_lst = []\n",
    "    for i in lst:\n",
    "        if check_prime(i) == True:\n",
    "            prime_lst.append(i)\n",
    "    return sum(prime_lst)\n",
    "\n",
    "print(sum_primes([1, 2, 3, 4, 5, 6, 7, 8, 9, 10]))\n",
    "print(sum_primes([2, 3, 4, 11, 20, 50, 71]))\n",
    "print(sum_primes([]))\n",
    "\n",
    "x = input('Enter a list of positive integers: ')\n",
    "x_lst =[int(i.strip()) for i in x.split(',')]\n",
    "print(sum_primes(x_lst))"
   ]
  }
 ],
 "metadata": {
  "kernelspec": {
   "display_name": "Python 3",
   "language": "python",
   "name": "python3"
  },
  "language_info": {
   "codemirror_mode": {
    "name": "ipython",
    "version": 3
   },
   "file_extension": ".py",
   "mimetype": "text/x-python",
   "name": "python",
   "nbconvert_exporter": "python",
   "pygments_lexer": "ipython3",
   "version": "3.8.5"
  }
 },
 "nbformat": 4,
 "nbformat_minor": 4
}
