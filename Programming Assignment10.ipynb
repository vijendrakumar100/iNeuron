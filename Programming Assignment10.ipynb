{
 "cells": [
  {
   "cell_type": "code",
   "execution_count": 12,
   "metadata": {},
   "outputs": [
    {
     "name": "stdout",
     "output_type": "stream",
     "text": [
      "15\n"
     ]
    }
   ],
   "source": [
    "#1. Write a Python program to find sum of elements in list?\n",
    "lst =[1,2,3,4,5]\n",
    "print(sum(lst))"
   ]
  },
  {
   "cell_type": "code",
   "execution_count": 13,
   "metadata": {},
   "outputs": [
    {
     "name": "stdout",
     "output_type": "stream",
     "text": [
      "120\n"
     ]
    }
   ],
   "source": [
    "#2. Write a Python program to  Multiply all numbers in the list?\n",
    "lst =[1,2,3,4,5]\n",
    "mul=1\n",
    "for i in lst:\n",
    "    mul*=i\n",
    "print(mul)"
   ]
  },
  {
   "cell_type": "code",
   "execution_count": 14,
   "metadata": {},
   "outputs": [
    {
     "name": "stdout",
     "output_type": "stream",
     "text": [
      "1\n"
     ]
    }
   ],
   "source": [
    "#3. Write a Python program to find smallest number in a list?\n",
    "lst =[1,2,3,4,5]\n",
    "print(min(lst))"
   ]
  },
  {
   "cell_type": "code",
   "execution_count": 15,
   "metadata": {},
   "outputs": [
    {
     "name": "stdout",
     "output_type": "stream",
     "text": [
      "5\n"
     ]
    }
   ],
   "source": [
    "#4. Write a Python program to find largest number in a list?\n",
    "lst =[1,2,3,4,5]\n",
    "print(max(lst))"
   ]
  },
  {
   "cell_type": "code",
   "execution_count": 16,
   "metadata": {},
   "outputs": [
    {
     "name": "stdout",
     "output_type": "stream",
     "text": [
      "18\n"
     ]
    }
   ],
   "source": [
    "#5. Write a Python program to find second largest number in a list?\n",
    "lst =[9,20,1,18,5,17]\n",
    "lst.sort()\n",
    "print(lst[-2])"
   ]
  },
  {
   "cell_type": "code",
   "execution_count": 19,
   "metadata": {},
   "outputs": [
    {
     "name": "stdout",
     "output_type": "stream",
     "text": [
      "[103, 87, 33, 20, 18]\n"
     ]
    }
   ],
   "source": [
    "#6. Write a Python program to find N largest elements from a list?\n",
    "lst =[9,20,1,18,5,17,33,13,87,5,103]\n",
    "N = 5\n",
    "lst.sort(reverse=True)\n",
    "print(lst[:N])"
   ]
  },
  {
   "cell_type": "code",
   "execution_count": 21,
   "metadata": {},
   "outputs": [
    {
     "name": "stdout",
     "output_type": "stream",
     "text": [
      "[20, 18, 30, 16, 6]\n"
     ]
    }
   ],
   "source": [
    "#7. Write a Python program to print even numbers in a list?\n",
    "lst =[9,20,1,18,5,17,33,13,87,5,103,30,16,6]\n",
    "lst2 = [i for i in lst if i%2==0]\n",
    "print(lst2)"
   ]
  },
  {
   "cell_type": "code",
   "execution_count": 22,
   "metadata": {},
   "outputs": [
    {
     "name": "stdout",
     "output_type": "stream",
     "text": [
      "[9, 1, 5, 17, 33, 13, 87, 5, 103]\n"
     ]
    }
   ],
   "source": [
    "#8. Write a Python program to print odd numbers in a List?\n",
    "lst =[9,20,1,18,5,17,33,13,87,5,103,30,16,6]\n",
    "lst2 = [i for i in lst if i%2!=0]\n",
    "print(lst2)"
   ]
  },
  {
   "cell_type": "code",
   "execution_count": 38,
   "metadata": {},
   "outputs": [
    {
     "name": "stdout",
     "output_type": "stream",
     "text": [
      "Original list: [9, [20, 1, 18, 5], 17, 33, 13, 87, 5, 103, 30, 16, 6, 'India', [], True, [], 2, []]\n",
      "Modified list after removing empty lists: [9, [20, 1, 18, 5], 17, 33, 13, 87, 5, 103, 30, 16, 6, 'India', True, 2]\n"
     ]
    }
   ],
   "source": [
    "#9. Write a Python program to Remove empty List from List?\n",
    "lst =[9,[20,1,18,5],17,33,13,87,5,103,30,16,6,'India',[],True,[],2,[]]\n",
    "print('Original list:',lst)\n",
    "lst2 = [i for i in lst if i != []]\n",
    "print('Modified list after removing empty lists:',lst2)"
   ]
  },
  {
   "cell_type": "code",
   "execution_count": 24,
   "metadata": {},
   "outputs": [
    {
     "name": "stdout",
     "output_type": "stream",
     "text": [
      "[9, 20, 1, 18, 5, 17, 33, 13, 87, 5, 103, 30, 16, 6]\n"
     ]
    }
   ],
   "source": [
    "#10. Write a Python program to Cloning or Copying a list?\n",
    "lst =[9,20,1,18,5,17,33,13,87,5,103,30,16,6]\n",
    "lst2 = lst.copy()\n",
    "print(lst2)"
   ]
  },
  {
   "cell_type": "code",
   "execution_count": 32,
   "metadata": {},
   "outputs": [
    {
     "name": "stdout",
     "output_type": "stream",
     "text": [
      "Enter the element you want to look in the list: 1\n",
      "1 ocsurs 5 number of times in the list\n"
     ]
    }
   ],
   "source": [
    "#11. Write a Python program to Count occurrences of an element in a list?\n",
    "lst = [1,2,3,1,4,5,1,6,7,1,8,9,1]\n",
    "x = int(input('Enter the element you want to look in the list: '))\n",
    "print(x,'ocsurs',lst.count(x),'number of times in the list')"
   ]
  },
  {
   "cell_type": "code",
   "execution_count": null,
   "metadata": {},
   "outputs": [],
   "source": []
  }
 ],
 "metadata": {
  "kernelspec": {
   "display_name": "Python 3",
   "language": "python",
   "name": "python3"
  },
  "language_info": {
   "codemirror_mode": {
    "name": "ipython",
    "version": 3
   },
   "file_extension": ".py",
   "mimetype": "text/x-python",
   "name": "python",
   "nbconvert_exporter": "python",
   "pygments_lexer": "ipython3",
   "version": "3.8.5"
  }
 },
 "nbformat": 4,
 "nbformat_minor": 4
}
