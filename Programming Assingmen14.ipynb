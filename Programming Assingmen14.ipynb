{
 "cells": [
  {
   "cell_type": "code",
   "execution_count": 2,
   "id": "a519ef71",
   "metadata": {},
   "outputs": [
    {
     "name": "stdout",
     "output_type": "stream",
     "text": [
      "0\n",
      "7\n",
      "14\n",
      "21\n",
      "28\n",
      "35\n",
      "42\n",
      "49\n",
      "56\n",
      "63\n",
      "70\n",
      "77\n",
      "84\n",
      "91\n",
      "98\n"
     ]
    }
   ],
   "source": [
    "'''\n",
    "Question 1:\n",
    "\n",
    "Define a class with a generator which can iterate the numbers, which are divisible by 7, \n",
    "between a given range 0 and n.\n",
    "'''\n",
    "\n",
    "class num:\n",
    "    def __init__(self, n):\n",
    "        self.n = n\n",
    "    \n",
    "    def seq(self):\n",
    "        for i in range(self.n):\n",
    "            if i%7 == 0:\n",
    "                print(i)\n",
    "\n",
    "x = num(100)\n",
    "x.seq()"
   ]
  },
  {
   "cell_type": "code",
   "execution_count": 14,
   "id": "611bcfdb",
   "metadata": {},
   "outputs": [
    {
     "name": "stdout",
     "output_type": "stream",
     "text": [
      "Enter a sentence to compute frequency of words: New to Python or choosing between Python 2 and Python 3? Read Python 2 or Python 3.\n",
      "2:2\n",
      "3.:1\n",
      "3?:1\n",
      "New:1\n",
      "Python:5\n",
      "Read:1\n",
      "and:1\n",
      "between:1\n",
      "choosing:1\n",
      "or:2\n",
      "to:1\n"
     ]
    }
   ],
   "source": [
    "'''\n",
    "|Question 2:\n",
    "Write a program to compute the frequency of the words from the input. The output should output \n",
    "after sorting the key alphanumerically. \n",
    "\n",
    "Suppose the following input is supplied to the program:\n",
    "\n",
    "New to Python or choosing between Python 2 and Python 3? Read Python 2 or Python 3.\n",
    "\n",
    "Then, the output should be:\n",
    "\n",
    "2:2\n",
    "\n",
    "3.:1\n",
    "\n",
    "3?:1\n",
    "\n",
    "New:1\n",
    "\n",
    "Python:5\n",
    "\n",
    "Read:1\n",
    "\n",
    "and:1\n",
    "\n",
    "between:1\n",
    "\n",
    "choosing:1\n",
    "\n",
    "or:2\n",
    "\n",
    "to:1\n",
    "'''\n",
    "\n",
    "def count_freq(lst):\n",
    "    count_lst = []\n",
    "    lst2 = list(set(lst))\n",
    "    lst2.sort()\n",
    "    for i in list(set(lst2)):\n",
    "        count = 0\n",
    "        for j in lst:\n",
    "            if i == j:\n",
    "                count+=1\n",
    "        count_lst.append(i+':'+str(count))\n",
    "    count_lst.sort()\n",
    "    for i in count_lst:\n",
    "        print(i)\n",
    "\n",
    "ip_lst = input('Enter a sentence to compute frequency of words: ').split()\n",
    "count_freq(ip_lst)"
   ]
  },
  {
   "cell_type": "code",
   "execution_count": 17,
   "id": "3c4deded",
   "metadata": {},
   "outputs": [
    {
     "name": "stdout",
     "output_type": "stream",
     "text": [
      "Enter some words separated by comma: without,hello,bag,world\n",
      "bag,hello,without,world\n"
     ]
    }
   ],
   "source": [
    "'''\n",
    "Question 3:\n",
    "\n",
    "Define a class Person and its two child classes: Male and Female. All classes have a method \n",
    "\"getGender\" which can print \"Male\" for Male class and \"Female\" for Female class.\n",
    "'''\n",
    "\n",
    "class Person:\n",
    "    def getGender():\n",
    "        \n",
    "class Male(Person):\n",
    "    \n",
    "class Female(Person):\n",
    "    \n"
   ]
  },
  {
   "cell_type": "code",
   "execution_count": 16,
   "id": "6d84a461",
   "metadata": {},
   "outputs": [
    {
     "name": "stdout",
     "output_type": "stream",
     "text": [
      "I Play Hockey\n",
      "I Play Football\n",
      "I Love Hockey\n",
      "I Love Football\n",
      "You Play Hockey\n",
      "You Play Football\n",
      "You Love Hockey\n",
      "You Love Football\n"
     ]
    }
   ],
   "source": [
    "'''\n",
    "Question 4:\n",
    "Please write a program to generate all sentences where subject is in [\"I\", \"You\"] and verb is in \n",
    "[\"Play\", \"Love\"] and the object is in [\"Hockey\",\"Football\"].\n",
    "'''\n",
    "\n",
    "subject = [\"I\", \"You\"]\n",
    "verb = [\"Play\", \"Love\"]\n",
    "objectt = [\"Hockey\",\"Football\"]\n",
    "\n",
    "for i in subject:\n",
    "    for j in verb:\n",
    "        for k in objectt:\n",
    "            print(i,j,k)"
   ]
  },
  {
   "cell_type": "code",
   "execution_count": 18,
   "id": "c148ec00",
   "metadata": {},
   "outputs": [
    {
     "name": "stdout",
     "output_type": "stream",
     "text": [
      "helloworld!helloworld!helloworld!helloworld!\n",
      "hello world! hello world! hello world! hello world! \n"
     ]
    }
   ],
   "source": [
    "'''\n",
    "Question 5:\n",
    "Please write a program to compress and decompress the string \"hello world!hello world!hello world!hello world!\".\n",
    "'''\n",
    "\n",
    "st = \"hello world!hello world!hello world!hello world!\"\n",
    "print(''.join(st.split()))\n",
    "print('! '.join(st.split('!')))"
   ]
  },
  {
   "cell_type": "code",
   "execution_count": 3,
   "id": "56e54556",
   "metadata": {},
   "outputs": [
    {
     "name": "stdout",
     "output_type": "stream",
     "text": [
      "8 is found at index 2 of the list\n",
      "18 is not found in the list\n"
     ]
    }
   ],
   "source": [
    "'''\n",
    "Question 6:\n",
    "Please write a binary search function which searches an item in a sorted list. The function should \n",
    "return the index of element to be searched in the list.\n",
    "'''\n",
    "\n",
    "def bin_search(lst, num):\n",
    "    for i in range(len(lst)):\n",
    "        if lst[i] == num:\n",
    "            return str(num)+' is found at index '+str(i)+' of the list'\n",
    "    return str(num)+' is not found in the list'\n",
    "\n",
    "input_lst = [4,6,8,8,9,13]\n",
    "search_num = 8\n",
    "print(bin_search(input_lst, search_num))\n",
    "\n",
    "search_num = 18\n",
    "print(bin_search(input_lst, search_num))"
   ]
  }
 ],
 "metadata": {
  "kernelspec": {
   "display_name": "Python 3",
   "language": "python",
   "name": "python3"
  },
  "language_info": {
   "codemirror_mode": {
    "name": "ipython",
    "version": 3
   },
   "file_extension": ".py",
   "mimetype": "text/x-python",
   "name": "python",
   "nbconvert_exporter": "python",
   "pygments_lexer": "ipython3",
   "version": "3.8.8"
  }
 },
 "nbformat": 4,
 "nbformat_minor": 5
}
